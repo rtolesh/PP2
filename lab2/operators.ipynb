{
 "cells": [
  {
   "cell_type": "code",
   "execution_count": 2,
   "metadata": {},
   "outputs": [
    {
     "name": "stdout",
     "output_type": "stream",
     "text": [
      "15\n",
      "0\n",
      "115\n",
      "5\n",
      "50\n",
      "5.0\n",
      "Yes, apple is a fruit!\n",
      "5 and 10 is not equal\n",
      "At least one of the statements is true\n"
     ]
    }
   ],
   "source": [
    "print(10 + 5)\n",
    "\n",
    "print((6 + 3) - (6 + 3))\n",
    "\n",
    "print(100 + 5 * 3)\n",
    "\n",
    "print(5 + 4 - 7 + 3)\n",
    "\n",
    "print(10 * 5)\n",
    "\n",
    "print(10 / 2)\n",
    "\n",
    "fruits = [\"apple\", \"banana\"]\n",
    "if \"apple\" in fruits:\n",
    "  print(\"Yes, apple is a fruit!\")\n",
    "\n",
    "if 5!=10:\n",
    "  print(\"5 and 10 is not equal\")\n",
    "\n",
    "if 5 == 10 or 4 == 4:\n",
    "  print(\"At least one of the statements is true\")"
   ]
  }
 ],
 "metadata": {
  "kernelspec": {
   "display_name": ".venv",
   "language": "python",
   "name": "python3"
  },
  "language_info": {
   "codemirror_mode": {
    "name": "ipython",
    "version": 3
   },
   "file_extension": ".py",
   "mimetype": "text/x-python",
   "name": "python",
   "nbconvert_exporter": "python",
   "pygments_lexer": "ipython3",
   "version": "3.13.1"
  }
 },
 "nbformat": 4,
 "nbformat_minor": 2
}
