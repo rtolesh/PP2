{
 "cells": [
  {
   "cell_type": "code",
   "execution_count": 2,
   "metadata": {},
   "outputs": [
    {
     "name": "stdout",
     "output_type": "stream",
     "text": [
      "a and b are equal\n",
      "B\n",
      "=\n",
      "Hello World\n",
      "Hello World\n",
      "No\n",
      "2\n",
      "Hello\n",
      "YES\n",
      "YES\n"
     ]
    }
   ],
   "source": [
    "a = 33\n",
    "b = 33\n",
    "if b > a:\n",
    "  print(\"b is greater than a\")\n",
    "elif a == b:\n",
    "  print(\"a and b are equal\")\n",
    "\n",
    "if a > b: print(\"a is greater than b\")\n",
    "\n",
    "a = 2\n",
    "b = 330\n",
    "print(\"A\") if a > b else print(\"B\")\n",
    "\n",
    "a = 330\n",
    "b = 330\n",
    "print(\"A\") if a > b else print(\"=\") if a == b else print(\"B\")\n",
    "\n",
    "a = 33\n",
    "b = 200\n",
    "\n",
    "if b > a:\n",
    "  pass  #avoid getting error\n",
    "\n",
    "a = 50\n",
    "b = 10\n",
    "if a>b:\n",
    "    print(\"Hello World\")\n",
    "\n",
    "a = 50\n",
    "b = 10\n",
    "if a!=b:\n",
    "    print(\"Hello World\")\n",
    "\n",
    "a = 50\n",
    "b = 10\n",
    "if a==b:\n",
    "    print(\"Yes\")\n",
    "else:\n",
    "    print(\"No\")\n",
    "\n",
    "a = 50\n",
    "b = 10\n",
    "if a==b:\n",
    "    print(\"1\")\n",
    "elif a > b:\n",
    "    print(\"2\")\n",
    "else:\n",
    "    print(\"3\")\n",
    "\n",
    "c=2\n",
    "d=2\n",
    "if a == b and c == d:\n",
    "  print(\"Hello\")\n",
    "\n",
    "if a == b or c == d:\n",
    "  print(\"Hello\")\n",
    "\n",
    "if 5 > 2:\n",
    " print(\"YES\")\n",
    "\n",
    "a = 2\n",
    "b = 50\n",
    "c = 2\n",
    "if a==c or b==c:\n",
    "    print(\"YES\")"
   ]
  }
 ],
 "metadata": {
  "kernelspec": {
   "display_name": ".venv",
   "language": "python",
   "name": "python3"
  },
  "language_info": {
   "codemirror_mode": {
    "name": "ipython",
    "version": 3
   },
   "file_extension": ".py",
   "mimetype": "text/x-python",
   "name": "python",
   "nbconvert_exporter": "python",
   "pygments_lexer": "ipython3",
   "version": "3.13.1"
  }
 },
 "nbformat": 4,
 "nbformat_minor": 2
}
