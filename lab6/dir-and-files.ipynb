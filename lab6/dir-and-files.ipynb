{
 "cells": [
  {
   "cell_type": "code",
   "execution_count": null,
   "metadata": {},
   "outputs": [
    {
     "name": "stdout",
     "output_type": "stream",
     "text": [
      "Files and directories in  / ' :'\n",
      "['$Recycle.Bin', '$SysReset', '$WINDOWS.~BT', '$WinREAgent', '.GamingRoot', 'adobeTemp', 'C273A8148E35', 'Documents and Settings', 'DumpStack.log.tmp', 'hiberfil.sys', 'Intel', 'KMSpico 10.2.0 Final + Portable', 'KMSpico 10.2.0 Final + Portable.rar', 'MSOCache', 'msys64', 'pagefile.sys', 'PerfLogs', 'Program Files', 'Program Files (x86)', 'ProgramData', 'Ps-2017x64-temp', 'Recovery', 'swapfile.sys', 'System Volume Information', 'Users', 'Windows', 'XboxGames', 'Гульжан С']\n"
     ]
    }
   ],
   "source": [
    "#1\n",
    "import os\n",
    "path = \"/\"\n",
    "dir_list = os.listdir(path)\n",
    "print(\"Files and directories in \",path,\"' :'\")\n",
    "print(dir_list)"
   ]
  },
  {
   "cell_type": "code",
   "execution_count": null,
   "metadata": {},
   "outputs": [
    {
     "name": "stdout",
     "output_type": "stream",
     "text": [
      "Path is not exists\n",
      "Path is not readable\n",
      "Path is not writable\n",
      "Path is not executable\n"
     ]
    }
   ],
   "source": [
    "#2\n",
    "import os\n",
    "def check_path(path):\n",
    "    if os.path.exists(path):\n",
    "        print(\"Path exists\")\n",
    "    else:print(\"Path is not exists\")\n",
    "    if os.access(path, os.R_OK):\n",
    "        print(\"Path is readable\")\n",
    "    else:print(\"Path is not readable\")\n",
    "    if os.access(path, os.W_OK):\n",
    "        print(\"Path is writable\")\n",
    "    else:print(\"Path is not writable\")\n",
    "    if os.access(path, os.X_OK):\n",
    "        print(\"Path is executable\")\n",
    "    else:print(\"Path is not executable\")\n",
    "test_path = \"Users/user/Desktop/lab1/lab1\"\n",
    "res = check_path(test_path)"
   ]
  },
  {
   "cell_type": "code",
   "execution_count": null,
   "metadata": {},
   "outputs": [
    {
     "name": "stdout",
     "output_type": "stream",
     "text": [
      "Path exists\n",
      "Filename : Thomas Calculus.pdf\n",
      "Directory : C:\\Users\\user\\Desktop\\test\n",
      "Path /noneexistent/path is not exist\n"
     ]
    }
   ],
   "source": [
    "#3\n",
    "import os\n",
    "def check_path(path):\n",
    "    if os.path.exists(path):\n",
    "        print(\"Path exists\")\n",
    "        filename = os.path.basename(path)\n",
    "        directory = os.path.dirname(path)\n",
    "        print(f\"Filename : {filename}\")\n",
    "        print(f\"Directory : {directory}\")\n",
    "    else:print(f\"Path {path} is not exist\")\n",
    "path_1 = r\"C:\\Users\\user\\Desktop\\test\\Thomas Calculus.pdf\"\n",
    "path_2 = \"/noneexistent/path\"\n",
    "check_path(path_1)\n",
    "check_path(path_2)\n"
   ]
  },
  {
   "cell_type": "code",
   "execution_count": null,
   "metadata": {},
   "outputs": [
    {
     "data": {
      "text/plain": [
       "4"
      ]
     },
     "execution_count": 3,
     "metadata": {},
     "output_type": "execute_result"
    }
   ],
   "source": [
    "#4\n",
    "def count_lines(filename):\n",
    "    with open(filename, 'r',encoding='utf-8') as file:\n",
    "        lines = file.readlines(0)\n",
    "        return len(lines)\n",
    "filename1 = \"lines_text.txt\"\n",
    "count_lines(filename1)\n",
    "    \n"
   ]
  },
  {
   "cell_type": "code",
   "execution_count": null,
   "metadata": {},
   "outputs": [
    {
     "name": "stdout",
     "output_type": "stream",
     "text": [
      "List successfully written to fruits.txt\n"
     ]
    }
   ],
   "source": [
    "#5\n",
    "def write_list_to_file(file_name, list_to_write):\n",
    "    with open(file_name, 'w') as file:\n",
    "        for item in list_to_write:\n",
    "            file.write(str(item) + '\\n')\n",
    "\n",
    "if __name__ == \"__main__\":\n",
    "    list_to_write = [\"Apple\", \"Banana\", \"Cherry\"]\n",
    "    file_name = \"fruits.txt\"\n",
    "    write_list_to_file(file_name, list_to_write)\n"
   ]
  },
  {
   "cell_type": "code",
   "execution_count": 2,
   "metadata": {},
   "outputs": [],
   "source": [
    "#6\n",
    "import string\n",
    "def generate_text_files():\n",
    "    for letter in string.ascii_uppercase:\n",
    "        file_name = letter + \".txt\"\n",
    "        with open(file_name, 'w') as file:\n",
    "            pass\n",
    "if __name__ == \"__main__\":\n",
    "    generate_text_files()\n"
   ]
  },
  {
   "cell_type": "code",
   "execution_count": 7,
   "metadata": {},
   "outputs": [],
   "source": [
    "#7\n",
    "def copy_file(source_file, destination_file):\n",
    "    with open(source_file, 'r') as source, open(destination_file, 'w') as destination:\n",
    "        for line in source:\n",
    "            destination.write(line)\n",
    "\n",
    "if __name__ == \"__main__\":\n",
    "    source_file = \"source.txt\"\n",
    "    destination_file = \"destination.txt\"\n",
    "    copy_file(source_file, destination_file)\n",
    "\n"
   ]
  },
  {
   "cell_type": "code",
   "execution_count": 1,
   "metadata": {},
   "outputs": [
    {
     "name": "stdout",
     "output_type": "stream",
     "text": [
      "The file C:\\Users\\user\\Desktop\\test\\Thomas Calculus.pdf has been deleted successfully.\n"
     ]
    }
   ],
   "source": [
    "#8\n",
    "import os\n",
    "\n",
    "def delete_file(file_path):\n",
    "    # Check if the file exists\n",
    "    if not os.path.exists(file_path):\n",
    "        print(f\"The file {file_path} does not exist.\")\n",
    "        return\n",
    "\n",
    "    # Check if the path is a file (not a directory)\n",
    "    if not os.path.isfile(file_path):\n",
    "        print(f\"{file_path} is not a file.\")\n",
    "        return\n",
    "\n",
    "    # Check for write permission (delete requires write access to the directory)\n",
    "    if not os.access(os.path.dirname(file_path), os.W_OK):\n",
    "        print(f\"No write permission to delete {file_path}.\")\n",
    "        return\n",
    "\n",
    "    try:\n",
    "        os.remove(file_path)\n",
    "        print(f\"The file {file_path} has been deleted successfully.\")\n",
    "    except Exception as e:\n",
    "        print(f\"An error occurred while deleting {file_path}: {e}\")\n",
    "\n",
    "# Example usage\n",
    "if __name__ == \"__main__\":\n",
    "    file_path = r\"C:\\Users\\user\\Desktop\\test\\Thomas Calculus.pdf\"\n",
    "    delete_file(file_path)\n"
   ]
  }
 ],
 "metadata": {
  "kernelspec": {
   "display_name": ".venv",
   "language": "python",
   "name": "python3"
  },
  "language_info": {
   "codemirror_mode": {
    "name": "ipython",
    "version": 3
   },
   "file_extension": ".py",
   "mimetype": "text/x-python",
   "name": "python",
   "nbconvert_exporter": "python",
   "pygments_lexer": "ipython3",
   "version": "3.13.1"
  }
 },
 "nbformat": 4,
 "nbformat_minor": 2
}
