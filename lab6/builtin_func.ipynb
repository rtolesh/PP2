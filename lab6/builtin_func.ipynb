{
 "cells": [
  {
   "cell_type": "code",
   "execution_count": 1,
   "metadata": {},
   "outputs": [
    {
     "name": "stdout",
     "output_type": "stream",
     "text": [
      "40320\n"
     ]
    }
   ],
   "source": [
    "import math \n",
    "def mult(number):\n",
    "    return math.prod(number)\n",
    "my_list = {1,2,3,4,5,6,7,8}\n",
    "res = mult(my_list)\n",
    "print(res)"
   ]
  },
  {
   "cell_type": "code",
   "execution_count": 3,
   "metadata": {},
   "outputs": [
    {
     "name": "stdout",
     "output_type": "stream",
     "text": [
      "(5, 19)\n"
     ]
    }
   ],
   "source": [
    "def count(string):\n",
    "    upcount = 0\n",
    "    lowcount = 0\n",
    "    for char in string:\n",
    "        if char.isupper():\n",
    "            upcount += 1\n",
    "        if char.islower():\n",
    "            lowcount += 1\n",
    "    return upcount, lowcount\n",
    "\n",
    "new_string = \"Hello My Favourite One World\"\n",
    "res = count(new_string)\n",
    "print(res)\n"
   ]
  },
  {
   "cell_type": "code",
   "execution_count": 5,
   "metadata": {},
   "outputs": [
    {
     "name": "stdout",
     "output_type": "stream",
     "text": [
      "True\n"
     ]
    }
   ],
   "source": [
    "def check(string):\n",
    "    if string == string[::1]:\n",
    "        return True\n",
    "    else:\n",
    "        return False\n",
    "new_string = \"anna\"\n",
    "res = check(new_string)\n",
    "print(res)"
   ]
  },
  {
   "cell_type": "code",
   "execution_count": 10,
   "metadata": {},
   "outputs": [
    {
     "name": "stdout",
     "output_type": "stream",
     "text": [
      "Square root of 25100 after 2123 milliseconds is 158.42979517754858\n"
     ]
    }
   ],
   "source": [
    "import time\n",
    "import math\n",
    "def calculate_sqrt_after_delay(value, delay):\n",
    "    time.sleep(delay / 1000)\n",
    "    return math.sqrt(value)\n",
    "input_value = 25100\n",
    "delay_milliseconds = 2123\n",
    "res = calculate_sqrt_after_delay(input_value, delay_milliseconds)\n",
    "print(f\"Square root of {input_value} after {delay_milliseconds} milliseconds is {res}\")\n"
   ]
  },
  {
   "cell_type": "code",
   "execution_count": 12,
   "metadata": {},
   "outputs": [
    {
     "name": "stdout",
     "output_type": "stream",
     "text": [
      "All elements in the tuple are true: True\n"
     ]
    }
   ],
   "source": [
    "def ellements(tuple):\n",
    "    return all(tuple)\n",
    "tuple1 = (1, 2, 3, 4, True, \"Non empty string\")\n",
    "res = ellements(tuple1)\n",
    "print(f\"All elements in the tuple are true: {res}\")"
   ]
  }
 ],
 "metadata": {
  "kernelspec": {
   "display_name": ".venv",
   "language": "python",
   "name": "python3"
  },
  "language_info": {
   "codemirror_mode": {
    "name": "ipython",
    "version": 3
   },
   "file_extension": ".py",
   "mimetype": "text/x-python",
   "name": "python",
   "nbconvert_exporter": "python",
   "pygments_lexer": "ipython3",
   "version": "3.13.1"
  }
 },
 "nbformat": 4,
 "nbformat_minor": 2
}
