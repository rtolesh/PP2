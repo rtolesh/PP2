{
 "cells": [
  {
   "cell_type": "code",
   "execution_count": 12,
   "metadata": {},
   "outputs": [
    {
     "name": "stdout",
     "output_type": "stream",
     "text": [
      "0.261799\n"
     ]
    }
   ],
   "source": [
    "import math\n",
    "def radians(N):\n",
    "    rad = round(((N * math.pi) / 180), 6)\n",
    "    return rad\n",
    "N = 15\n",
    "print(radians(N))"
   ]
  },
  {
   "cell_type": "code",
   "execution_count": 4,
   "metadata": {},
   "outputs": [
    {
     "name": "stdout",
     "output_type": "stream",
     "text": [
      "27.5\n"
     ]
    }
   ],
   "source": [
    "def area(H, F, S):\n",
    "    trap = ((F + S) / 2 * 5)\n",
    "    return trap\n",
    "#Height \n",
    "H = 5\n",
    "#First base value\n",
    "F = 5\n",
    "#Second base value\n",
    "S = 6\n",
    "print(area(H, F, S))"
   ]
  },
  {
   "cell_type": "code",
   "execution_count": 18,
   "metadata": {},
   "outputs": [
    {
     "name": "stdout",
     "output_type": "stream",
     "text": [
      "625\n"
     ]
    }
   ],
   "source": [
    "import math\n",
    "def polygon_area(Sides, L):\n",
    "    if Sides == 4:\n",
    "        return L * L\n",
    "    elif Sides == 3:\n",
    "        area = (math.sqrt(3) * (L ** 2) / 4)\n",
    "        return area\n",
    "    elif Sides > 4:\n",
    "        area = (L**2 * Sides) / (4* math.tan(180 / Sides))\n",
    "        return area\n",
    "result = round(polygon_area(Sides = 4,L = 25), 4)\n",
    "print(result)"
   ]
  },
  {
   "cell_type": "code",
   "execution_count": 11,
   "metadata": {},
   "outputs": [
    {
     "name": "stdout",
     "output_type": "stream",
     "text": [
      "30.0\n"
     ]
    }
   ],
   "source": [
    "def area_parallelogram(L, H):\n",
    "    return L * H\n",
    "L = 5\n",
    "H = 6\n",
    "Area = area_parallelogram(L, H)\n",
    "print(float(Area))"
   ]
  }
 ],
 "metadata": {
  "kernelspec": {
   "display_name": ".venv",
   "language": "python",
   "name": "python3"
  },
  "language_info": {
   "codemirror_mode": {
    "name": "ipython",
    "version": 3
   },
   "file_extension": ".py",
   "mimetype": "text/x-python",
   "name": "python",
   "nbconvert_exporter": "python",
   "pygments_lexer": "ipython3",
   "version": "3.13.1"
  }
 },
 "nbformat": 4,
 "nbformat_minor": 2
}
