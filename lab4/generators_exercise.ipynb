{
 "cells": [
  {
   "cell_type": "code",
   "execution_count": 14,
   "metadata": {},
   "outputs": [
    {
     "name": "stdout",
     "output_type": "stream",
     "text": [
      "0\n",
      "1\n",
      "4\n",
      "9\n",
      "16\n",
      "25\n",
      "36\n",
      "49\n",
      "64\n",
      "81\n",
      "100\n"
     ]
    }
   ],
   "source": [
    "class Squares:\n",
    "    def __init__(self, N):\n",
    "        self.N = N\n",
    "        self.current = 0\n",
    "    def __iter__(self):\n",
    "        return self\n",
    "    def __next__(self):\n",
    "        if self.current > self.N:\n",
    "            raise StopIteration\n",
    "        else:\n",
    "            square = self.current ** 2\n",
    "            self.current += 1\n",
    "            return square\n",
    "N = 10\n",
    "squares = Squares(N)\n",
    "for square in squares:\n",
    "    print(square)"
   ]
  },
  {
   "cell_type": "code",
   "execution_count": 17,
   "metadata": {},
   "outputs": [
    {
     "name": "stdout",
     "output_type": "stream",
     "text": [
      "0\n",
      "2\n",
      "4\n",
      "6\n",
      "8\n",
      "10\n"
     ]
    }
   ],
   "source": [
    "class Evens:\n",
    "    def __init__(self, N):\n",
    "        self.N = N\n",
    "        self.current = 0\n",
    "    def __iter__(self):\n",
    "        return self\n",
    "    def __next__(self):\n",
    "        while self.current <= self.N:\n",
    "            if self.current % 2 == 0:\n",
    "                result = self.current\n",
    "                self.current += 1\n",
    "                return result\n",
    "            self.current += 1\n",
    "        raise StopIteration\n",
    "\n",
    "N = 10\n",
    "even_num = Evens(N)\n",
    "for num in even_num:\n",
    "    print(num)"
   ]
  },
  {
   "cell_type": "code",
   "execution_count": 18,
   "metadata": {},
   "outputs": [
    {
     "name": "stdout",
     "output_type": "stream",
     "text": [
      "0\n",
      "12\n",
      "24\n"
     ]
    }
   ],
   "source": [
    "class divisible:\n",
    "    def __init__(self, N):\n",
    "        self.N = N\n",
    "        self.current = 0\n",
    "    def __iter__(self):\n",
    "        return self\n",
    "    def __next__(self):\n",
    "        while self.current <= self.N:\n",
    "            if self.current % 3 == 0 and self.current % 4 == 0:\n",
    "                result = self.current\n",
    "                self.current += 1\n",
    "                return result\n",
    "            self.current += 1\n",
    "        raise StopIteration\n",
    "N = 25\n",
    "div = divisible(N)\n",
    "for num in div:\n",
    "    print(num)"
   ]
  },
  {
   "cell_type": "code",
   "execution_count": 2,
   "metadata": {},
   "outputs": [
    {
     "name": "stdout",
     "output_type": "stream",
     "text": [
      "0\n",
      "1\n",
      "4\n",
      "9\n",
      "16\n",
      "25\n",
      "36\n",
      "49\n",
      "64\n",
      "81\n",
      "100\n"
     ]
    }
   ],
   "source": [
    "def Squares(N):\n",
    "    for i in range(N + 1):\n",
    "        yield i * i\n",
    "N = 10\n",
    "squares = Squares(N)\n",
    "for num in squares:\n",
    "    print(num)"
   ]
  },
  {
   "cell_type": "code",
   "execution_count": 6,
   "metadata": {},
   "outputs": [
    {
     "name": "stdout",
     "output_type": "stream",
     "text": [
      "10\n",
      "9\n",
      "8\n",
      "7\n",
      "6\n",
      "5\n",
      "4\n",
      "3\n",
      "2\n",
      "1\n",
      "0\n"
     ]
    }
   ],
   "source": [
    "def down(N):\n",
    "    while N >= 0:\n",
    "        yield N\n",
    "        N -= 1\n",
    "N = 10\n",
    "downs = down(N)\n",
    "for num in downs:\n",
    "    print(num)"
   ]
  }
 ],
 "metadata": {
  "kernelspec": {
   "display_name": ".venv",
   "language": "python",
   "name": "python3"
  },
  "language_info": {
   "codemirror_mode": {
    "name": "ipython",
    "version": 3
   },
   "file_extension": ".py",
   "mimetype": "text/x-python",
   "name": "python",
   "nbconvert_exporter": "python",
   "pygments_lexer": "ipython3",
   "version": "3.13.1"
  }
 },
 "nbformat": 4,
 "nbformat_minor": 2
}
