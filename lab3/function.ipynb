{
 "cells": [
  {
   "cell_type": "code",
   "execution_count": 14,
   "metadata": {},
   "outputs": [
    {
     "name": "stdout",
     "output_type": "stream",
     "text": [
      "Hello from a function\n",
      "EmilRefsens\n",
      "TobiasRefsens\n",
      "LinusRefsens\n",
      "Emil Refsnes\n",
      "The youngest child is Linus\n",
      "The youngest child is Linus\n",
      "I am from Sweden\n",
      "I am from India\n",
      "I am from Norway\n",
      "I am from Brazil\n",
      "apple\n",
      "banana\n",
      "cherry\n",
      "15\n",
      "25\n",
      "45\n",
      "26\n",
      "Recursion Example Results:\n",
      "1\n",
      "3\n",
      "6\n",
      "10\n",
      "15\n",
      "21\n"
     ]
    },
    {
     "data": {
      "text/plain": [
       "21"
      ]
     },
     "execution_count": 14,
     "metadata": {},
     "output_type": "execute_result"
    }
   ],
   "source": [
    "def my_function():\n",
    "   print(\"Hello from a function\")\n",
    "my_function()\n",
    "\n",
    "#Arguments\n",
    "def my_function1(fname):\n",
    "    print(fname + \"Refsens\")\n",
    "my_function1(\"Emil\")\n",
    "my_function1(\"Tobias\")\n",
    "my_function1(\"Linus\")\n",
    "#Number of Arguments\n",
    "def my_function2(fname, lname):\n",
    "  print(fname + \" \" + lname)\n",
    "my_function2(\"Emil\", \"Refsnes\")\n",
    "#Arbitrary Arguments, *args\n",
    "def my_function3(*kids):\n",
    "  print(\"The youngest child is \" + kids[2])\n",
    "my_function3(\"Emil\", \"Tobias\", \"Linus\")\n",
    "#Keyword Arguments\n",
    "def my_function4(child3, child2, child1):\n",
    "  print(\"The youngest child is \" + child3)\n",
    "my_function4(child1 = \"Emil\", child2 = \"Tobias\", child3 = \"Linus\")\n",
    "#Default Parameter Value\n",
    "def my_function5(country = \"Norway\"):\n",
    "  print(\"I am from \" + country)\n",
    "my_function5(\"Sweden\")\n",
    "my_function5(\"India\")\n",
    "my_function5()\n",
    "my_function5(\"Brazil\")\n",
    "#Passing a List as an Argument\n",
    "def my_function6(food):\n",
    "  for x in food:\n",
    "    print(x)\n",
    "fruits = [\"apple\", \"banana\", \"cherry\"]\n",
    "my_function6(fruits)\n",
    "#Return Values\n",
    "def my_function7(x):\n",
    "  return 5 * x\n",
    "print(my_function7(3))\n",
    "print(my_function7(5))\n",
    "print(my_function7(9))\n",
    "#Combine Positional-Only and Keyword-Only\n",
    "def my_function8(a, b, /, *, c, d):\n",
    "  print(a + b + c + d)\n",
    "my_function8(5, 6, c = 7, d = 8)\n",
    "#Recursion\n",
    "def tri_recursion(k):\n",
    "  if(k > 0):\n",
    "    result = k + tri_recursion(k - 1)\n",
    "    print(result)\n",
    "  else:\n",
    "    result = 0\n",
    "  return result\n",
    "\n",
    "print(\"Recursion Example Results:\")\n",
    "tri_recursion(6)"
   ]
  }
 ],
 "metadata": {
  "kernelspec": {
   "display_name": ".venv",
   "language": "python",
   "name": "python3"
  },
  "language_info": {
   "codemirror_mode": {
    "name": "ipython",
    "version": 3
   },
   "file_extension": ".py",
   "mimetype": "text/x-python",
   "name": "python",
   "nbconvert_exporter": "python",
   "pygments_lexer": "ipython3",
   "version": "3.13.1"
  }
 },
 "nbformat": 4,
 "nbformat_minor": 2
}
