{
 "cells": [
  {
   "cell_type": "code",
   "execution_count": 7,
   "metadata": {},
   "outputs": [
    {
     "name": "stdout",
     "output_type": "stream",
     "text": [
      "5\n",
      "John\n",
      "36\n",
      "<__main__.Person object at 0x00000268CC988050>\n",
      "John(36)\n",
      "Hello my name is John\n",
      "Hello my name is John\n"
     ]
    }
   ],
   "source": [
    "#Create Class and Object\n",
    "class MyClass:\n",
    "  x = 5\n",
    "p1 = MyClass()\n",
    "print(p1.x)\n",
    "#The __init__() Function\n",
    "class Person:\n",
    "  def __init__(self, name, age):\n",
    "    self.name = name\n",
    "    self.age = age\n",
    "p1 = Person(\"John\", 36)\n",
    "print(p1.name)\n",
    "print(p1.age)\n",
    "#The __str__() Function\n",
    "class Person:\n",
    "  def __init__(self, name, age):\n",
    "    self.name = name\n",
    "    self.age = age\n",
    "p1 = Person(\"John\", 36)\n",
    "print(p1)\n",
    "\n",
    "class Person:\n",
    "  def __init__(self, name, age):\n",
    "    self.name = name\n",
    "    self.age = age\n",
    "\n",
    "  def __str__(self):\n",
    "    return f\"{self.name}({self.age})\"\n",
    "p1 = Person(\"John\", 36)\n",
    "print(p1)\n",
    "\n",
    "#Object Methods\n",
    "class Person:\n",
    "  def __init__(self, name, age):\n",
    "    self.name = name\n",
    "    self.age = age\n",
    "\n",
    "  def myfunc(self):\n",
    "    print(\"Hello my name is \" + self.name)\n",
    "p1 = Person(\"John\", 36)\n",
    "p1.myfunc()\n",
    "#The self Parameter\n",
    "class Person:\n",
    "  def __init__(mysillyobject, name, age):\n",
    "    mysillyobject.name = name\n",
    "    mysillyobject.age = age\n",
    "  def myfunc(abc):\n",
    "    print(\"Hello my name is \" + abc.name)\n",
    "p1 = Person(\"John\", 36)\n",
    "p1.myfunc()\n",
    "#Modify Object Properties\n",
    "p1.age = 40\n",
    "#Delete Object Properties\n",
    "del p1.age\n",
    "del p1\n",
    "#The pass Statement\n",
    "class Person:\n",
    "  pass"
   ]
  }
 ],
 "metadata": {
  "kernelspec": {
   "display_name": ".venv",
   "language": "python",
   "name": "python3"
  },
  "language_info": {
   "codemirror_mode": {
    "name": "ipython",
    "version": 3
   },
   "file_extension": ".py",
   "mimetype": "text/x-python",
   "name": "python",
   "nbconvert_exporter": "python",
   "pygments_lexer": "ipython3",
   "version": "3.13.1"
  }
 },
 "nbformat": 4,
 "nbformat_minor": 2
}
