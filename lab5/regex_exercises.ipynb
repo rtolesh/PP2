{
 "cells": [
  {
   "cell_type": "code",
   "execution_count": 1,
   "metadata": {},
   "outputs": [
    {
     "name": "stdout",
     "output_type": "stream",
     "text": [
      "'a'\n",
      "'ab'\n",
      "'abb'\n",
      "'aab'\n",
      "'abbb'\n"
     ]
    }
   ],
   "source": [
    "import re\n",
    "def matchab(string):\n",
    "    x = r\"ab*\"\n",
    "    if re.match(x, string):\n",
    "        return True\n",
    "    else:\n",
    "        return False\n",
    "strings = [\"a\", \"ab\", \"abb\", \"aab\", \"abbb\", \"b\"]\n",
    "for string in strings:\n",
    "    if matchab(string):\n",
    "        print(f\"'{string}'\")"
   ]
  },
  {
   "cell_type": "code",
   "execution_count": 5,
   "metadata": {},
   "outputs": [
    {
     "name": "stdout",
     "output_type": "stream",
     "text": [
      "'abb'\n",
      "'abbb'\n"
     ]
    }
   ],
   "source": [
    "\n",
    "import re\n",
    "def matchab(string):\n",
    "    x = r\"ab{2,3}\"\n",
    "    if re.match(x, string):\n",
    "        return True\n",
    "    else:\n",
    "        return False\n",
    "strings = [\"a\", \"ab\", \"abb\", \"aab\", \"abbb\", \"b\"]\n",
    "for string in strings:\n",
    "    if matchab(string):\n",
    "        print(f\"'{string}'\")"
   ]
  },
  {
   "cell_type": "code",
   "execution_count": 9,
   "metadata": {},
   "outputs": [
    {
     "name": "stdout",
     "output_type": "stream",
     "text": [
      "['hello_world', 'this_is', 'a_master', 'the_test']\n"
     ]
    }
   ],
   "source": [
    "import re\n",
    "def seq(string):\n",
    "    x = r\"[a-z]+_[a-z]+\"\n",
    "    matche = re.findall(x, string)\n",
    "    return matche\n",
    "string1 = \"hello_world this_is_a_master the_test \"\n",
    "print(seq(string1))"
   ]
  },
  {
   "cell_type": "code",
   "execution_count": 13,
   "metadata": {},
   "outputs": [
    {
     "name": "stdout",
     "output_type": "stream",
     "text": [
      "['Helo', 'World', 'Is', 'Test', 'New', 'Example']\n"
     ]
    }
   ],
   "source": [
    "import re\n",
    "def seq(string):\n",
    "    x = r\"[A-Z][a-z]+\"\n",
    "    matche = re.findall(x, string)\n",
    "    return matche\n",
    "string1 = \"HeloWorld thisIsATest NewExample\"\n",
    "print(seq(string1))"
   ]
  },
  {
   "cell_type": "code",
   "execution_count": 43,
   "metadata": {},
   "outputs": [
    {
     "name": "stdout",
     "output_type": "stream",
     "text": [
      "['acvfgb']\n",
      "[]\n",
      "[]\n",
      "['aldwdwdb']\n"
     ]
    }
   ],
   "source": [
    "import re\n",
    "def checkab(string):\n",
    "    x = r\"a.*b$\"\n",
    "    matche = re.findall(x, string)\n",
    "    return matche\n",
    "strings = [\"acvfgb\", \"akkdkkmv\", \"adowdon\", \"aldwdwdb\"]\n",
    "for string in strings:\n",
    "    print(checkab(string))"
   ]
  },
  {
   "cell_type": "code",
   "execution_count": 44,
   "metadata": {},
   "outputs": [
    {
     "name": "stdout",
     "output_type": "stream",
     "text": [
      "This:is:a:test:string:\n"
     ]
    }
   ],
   "source": [
    "import re\n",
    "def replace(string):\n",
    "    x = r\"[ ,.]\"\n",
    "    new = re.sub(x, \":\" , string)\n",
    "    return new\n",
    "new_string = \"This is a,test string.\"\n",
    "print(replace(new_string))"
   ]
  },
  {
   "cell_type": "code",
   "execution_count": 2,
   "metadata": {},
   "outputs": [
    {
     "name": "stdout",
     "output_type": "stream",
     "text": [
      "mySnakeCaseString\n"
     ]
    }
   ],
   "source": [
    "def snake(string):\n",
    "    component = string.split('_')\n",
    "    return component[0] + ''.join(x.title() for x in component[1:])\n",
    "string1 = \"my_snake_case_string\"\n",
    "res = snake(string1)\n",
    "print(res)"
   ]
  },
  {
   "cell_type": "code",
   "execution_count": 3,
   "metadata": {},
   "outputs": [
    {
     "name": "stdout",
     "output_type": "stream",
     "text": [
      "['Hello', 'World']\n"
     ]
    }
   ],
   "source": [
    "import re\n",
    "def split(s):\n",
    "    return re.findall(r'[A-Z][a-z]*', s)\n",
    "string1 = \"HelloWorld\"\n",
    "res = split(string1)\n",
    "print(res)"
   ]
  },
  {
   "cell_type": "code",
   "execution_count": 4,
   "metadata": {},
   "outputs": [
    {
     "name": "stdout",
     "output_type": "stream",
     "text": [
      "This Is An Example String\n"
     ]
    }
   ],
   "source": [
    "import re\n",
    "def insert(text):\n",
    "    return re.sub(r'(?<=[a-z])(?=[A-Z])',' ',text)\n",
    "string1 = \"ThisIsAnExampleString\"\n",
    "res = insert(string1)\n",
    "print(res)"
   ]
  },
  {
   "cell_type": "code",
   "execution_count": 5,
   "metadata": {},
   "outputs": [
    {
     "name": "stdout",
     "output_type": "stream",
     "text": [
      "my_camel_case_string\n"
     ]
    }
   ],
   "source": [
    "import re\n",
    "def camel(string):\n",
    "    return re.sub(r'(?<!^)(?=[A-Z])','_',string).lower()\n",
    "string1 = \"myCamelCaseString\"\n",
    "res = camel(string1)\n",
    "print(res)"
   ]
  },
  {
   "cell_type": "code",
   "execution_count": 18,
   "metadata": {},
   "outputs": [],
   "source": [
    "import json\n",
    "\n",
    "with open('row.txt', 'r', encoding='utf-8') as file:\n",
    "    text_content = file.read()\n",
    "lines = text_content.strip().split(\"\\n\")\n",
    "data = {\n",
    "    \"branch\": lines[1].split(\"Филиал ТОО \")[-1],\n",
    "    \"bin\": lines[2].split(\"БИН \")[-1],\n",
    "    \"nds_series\": lines[3].split(\"Серия \")[-1],\n",
    "    \"kassa\": lines[5].split(\"Касса \")[-1],\n",
    "    \"smena\": lines[6].split(\"Смена \")[-1],\n",
    "    \"sequence_number\": lines[7].split(\"Порядковый номер чека №\")[-1],\n",
    "    \"check_number\": lines[8].split(\"Чек №\")[-1],\n",
    "    \"kassir\": lines[9].split(\"Кассир \")[-1],\n",
    "    \"items\": []\n",
    "}\n",
    "\n",
    "total_sum = 0\n",
    "item_lines = lines[11:]\n",
    "for i in range(0, len(item_lines), 6):\n",
    "    if \"Банковская карта\" in item_lines[i]:\n",
    "        break\n",
    "    try:\n",
    "        item = {\n",
    "            \"id\": item_lines[i].split(\".\")[0].strip(),\n",
    "            \"name\": item_lines[i+1].strip(),\n",
    "            \"price\": item_lines[i+2].split(\" x \")[0].strip(),\n",
    "            \"quantity\": item_lines[i+2].split(\" x \")[1].strip(),\n",
    "            \"sum\": item_lines[i+3].strip()\n",
    "        }\n",
    "        data[\"items\"].append(item)\n",
    "        total_sum += float(item[\"sum\"].replace(' ', '').replace(',', '.'))\n",
    "    except IndexError:\n",
    "        print(f\"Ошибка при обработке строки: {item_lines[i:i+6]}\")\n",
    "    except ValueError:\n",
    "        print(f\"Некорректное значение для суммы: {item['sum']}\")\n",
    "\n",
    "additional_info = {\n",
    "    \"total_sum\": f\"{total_sum:,.2f}\",\n",
    "    \"nds\": lines[-12].split(\":\")[-1].strip(),\n",
    "    \"fiscal_sign\": lines[-9].split(\":\")[-1].strip(),\n",
    "    \"date\": lines[-8].split(\" \")[1],\n",
    "    \"time\": lines[-8].split(\" \")[2],\n",
    "    \"address\": lines[-7].split(\":\")[-1].strip(),\n",
    "    \"operator\": lines[-6].split(\":\")[-1].strip(),\n",
    "    \"site\": lines[-5].split(\":\")[-1].strip(),\n",
    "    \"fiscal_check\": lines[-4].strip(),\n",
    "    \"ink_ofd\": lines[-3].split(\":\")[-1].strip(),\n",
    "    \"code_kkm\": lines[-2].split(\":\")[-1].strip(),\n",
    "    \"znm\": lines[-1].split(\":\")[-1].strip(),\n",
    "    \"webkassa\": \"WEBKASSA.KZ\",\n",
    "    \"bank_card\": lines[-17].split(\":\")[-1].strip(),\n",
    "    \"fiscal_feature\": lines[-9].split(\":\")[-1].strip(),\n",
    "    \"fp\": lines[-4].strip()\n",
    "}\n",
    "data.update(additional_info)\n",
    "with open('row.json', 'w', encoding='utf-8') as f:\n",
    "    json.dump(data, f, ensure_ascii=False, indent=4)"
   ]
  }
 ],
 "metadata": {
  "kernelspec": {
   "display_name": ".venv",
   "language": "python",
   "name": "python3"
  },
  "language_info": {
   "codemirror_mode": {
    "name": "ipython",
    "version": 3
   },
   "file_extension": ".py",
   "mimetype": "text/x-python",
   "name": "python",
   "nbconvert_exporter": "python",
   "pygments_lexer": "ipython3",
   "version": "3.13.1"
  }
 },
 "nbformat": 4,
 "nbformat_minor": 2
}
